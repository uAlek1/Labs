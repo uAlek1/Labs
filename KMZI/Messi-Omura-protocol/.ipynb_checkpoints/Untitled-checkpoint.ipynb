{
 "cells": [
  {
   "cell_type": "code",
   "execution_count": 1,
   "id": "c461753a",
   "metadata": {},
   "outputs": [],
   "source": [
    "from random import randint\n",
    "P = Primes()\n",
    "p = P.next(2**260)\n",
    "a = randint(1, p-1)\n",
    "b = randint(1, p-1)\n",
    "curve = EllipticCurve(GF(p), [a, b])\n",
    "q = ecm.factor(curve.cardinality())"
   ]
  },
  {
   "cell_type": "code",
   "execution_count": 2,
   "id": "088074c2",
   "metadata": {},
   "outputs": [],
   "source": [
    "file = open(\"key.txt\", \"rb\")\n",
    "key = file.read()\n",
    "file.close()\n",
    "key = key + (b\"\\x00\"*8)"
   ]
  },
  {
   "cell_type": "code",
   "execution_count": 6,
   "id": "52abe45f",
   "metadata": {},
   "outputs": [
    {
     "name": "stdout",
     "output_type": "stream",
     "text": [
      "91904132391736875095504212614599924807615660958090330434348209705965204071885349297348610621440\n",
      "91904132391736875095504212614599924807615660958090330434348209705965204071885349297348610621440\n"
     ]
    }
   ],
   "source": [
    "from Crypto.Util.number import bytes_to_long\n",
    "def f(message: bytes, p: int, a:int, b:int)->tuple:\n",
    "    F = GF(p)\n",
    "    x = bytes_to_long(message)\n",
    "    count = 0\n",
    "    while(count < 255):\n",
    "        if(kronecker(F(x**3 + a*x + b), p) == 1):\n",
    "            break\n",
    "        x+=1\n",
    "        count+=1\n",
    "    \n",
    "    if(count == 255):\n",
    "        raise Exception(\"This message not point\")\n",
    "    \n",
    "    y = sqrt(F(x**3 + a*x + b))\n",
    "    return (x,y)\n",
    "\n",
    "qwe = f(key, p, a, b)\n",
    "print(bytes_to_long(key))\n",
    "print(qwe[0])"
   ]
  }
 ],
 "metadata": {
  "kernelspec": {
   "display_name": "SageMath 9.0",
   "language": "sage",
   "name": "sagemath"
  },
  "language_info": {
   "codemirror_mode": {
    "name": "ipython",
    "version": 3
   },
   "file_extension": ".py",
   "mimetype": "text/x-python",
   "name": "python",
   "nbconvert_exporter": "python",
   "pygments_lexer": "ipython3",
   "version": "3.8.10"
  }
 },
 "nbformat": 4,
 "nbformat_minor": 5
}
