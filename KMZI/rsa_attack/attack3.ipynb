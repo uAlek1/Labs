{
 "cells": [
  {
   "cell_type": "code",
   "execution_count": 131,
   "id": "8105a53a",
   "metadata": {},
   "outputs": [
    {
     "name": "stdout",
     "output_type": "stream",
     "text": [
      "25047526991\n",
      "17309370359\n",
      "[2, 2, 2, 2, 2, 2, 2, 2, 2, 2, 2, 3, 3, 3, 3, 5, 7, 7, 7, 389, 11821, 113513]\n",
      "5\n",
      "b'hello'\n"
     ]
    }
   ],
   "source": [
    "from Crypto.Util.number import long_to_bytes, bytes_to_long, getPrime\n",
    "\n",
    "def noKey_decrypt(n:int, c:int, e:int)->int:\n",
    "    c_cur = c\n",
    "    while 1:\n",
    "        cc = c_cur\n",
    "        c_cur = pow(cc, e, n)\n",
    "        if(c_cur == c):\n",
    "            break \n",
    "    return cc\n",
    "\n",
    "p = 25047526991\n",
    "q = 17309370359\n",
    "n = p*q\n",
    "phi = (p-1)*(q-1)\n",
    "Zphi = Zmod(phi).unit_group()\n",
    "zphiorder =[2, 2, 2, 2, 2, 2, 2, 2, 2, 2, 2, 3, 3, 3, 3, 5, 7, 7, 7, 389, 11821, 113513] #ecm.factor(Zphi.order())\n",
    "print(p)\n",
    "print(q)\n",
    "print(zphiorder)\n",
    "while 1:\n",
    "    c = Zphi.random_element()\n",
    "    if(c.order()==5):\n",
    "        e = c\n",
    "        break\n",
    "    else:\n",
    "        need = Zphi.order() // 5\n",
    "        e = pow(c, need)\n",
    "        if(e.order()==5):\n",
    "            break\n",
    "\n",
    "    \n",
    "print(gcd(e.order(), phi))\n",
    "#print(Zphi.order())\n",
    "#print(ecm.factor(Zphi.order()))\n",
    "#print(q.order())\n",
    "#e value = 350626806458948806081\n",
    "mess = bytes_to_long(\"hello\".encode())\n",
    "mess = pow(mess, int(e.value()), n)\n",
    "m = noKey_decrypt(n, mess, int(e.value()))\n",
    "print(long_to_bytes(int(m)))\n",
    "#[2, 2, 3, 5, 11, 23, 175403, 22164708596347, 1130643474595693]\n",
    "    \n"
   ]
  },
  {
   "cell_type": "code",
   "execution_count": 29,
   "id": "19c7ca8f",
   "metadata": {
    "scrolled": true
   },
   "outputs": [
    {
     "name": "stdout",
     "output_type": "stream",
     "text": [
      "p = 74650116344281956055027931276193360842108739725905365718589461927114626916768698802602907805273699239232836791875906677529894037251036569323550764439326350687\n",
      "q = 100734796235284701828231094176524549081026715983252392284700299584756553904738258908942938430275093424955506797673131557552294920280270811243833552026061911159\n",
      "n = 7519864258881538975191344061741247452388177948061785536353190817321804580215973343321343724410137229181281913501935641877141628493515252499658167395987729426518720157733388257580930396031965045085302682025364212821460012112306480453395750163369992878150256030304353513893737860224538436642654481453110021412272616233\n",
      "e = 321302951188637805457613307220436205947\n",
      "d = 1855247079009545056513012920153304420697666149404954713684637140557733478517969788699320661612754520066153561141283535892076292497054867555829400546192864038440809316928468488092014450070895754550981193453746440638898891399138424402810669287849873128358797150398549583188141131521727481085822413894795460462116339751\n",
      "p-1 = [2, 37325058172140978027513965638096680421054369862952682859294730963557313458384349401301453902636849619616418395937953338764947018625518284661775382219663175343]\n",
      "q-1 = [2, 50367398117642350914115547088262274540513357991626196142350149792378276952369129454471469215137546712477753398836565778776147460140135405621916776013030955579]\n"
     ]
    }
   ],
   "source": [
    "from Crypto.Util.number import long_to_bytes, bytes_to_long, getPrime\n",
    "\n",
    "def bezout(a, b):\n",
    "    x, xx, y, yy = 1, 0, 0, 1\n",
    "    while b:\n",
    "        q = a // b\n",
    "        a, b = b, a % b\n",
    "        x, xx = xx, x - xx * q\n",
    "        y, yy = yy, y - yy * q\n",
    "    return x\n",
    "\n",
    "def gen_safe_params(bitlen):\n",
    "    ex = 0\n",
    "    while ex == 0:\n",
    "        while 1:\n",
    "            p = getPrime((bitlen // 2)+1)\n",
    "            if(is_prime((p-1)//2)):\n",
    "                break\n",
    "        while 1:\n",
    "            q = getPrime((bitlen // 2)+1)\n",
    "            if(is_prime((q-1)//2)):\n",
    "                break\n",
    "\n",
    "        if p < 2*q:\n",
    "            p, q = q, p\n",
    "            \n",
    "        n = p*q\n",
    "        phi = (p-1)*(q-1)\n",
    "        up = int(sqrt(sqrt(n))) // 3\n",
    "        if n < 2**bitlen:\n",
    "            print(\"((((\")\n",
    "            continue\n",
    "        if(abs(p-q) < 2**450):\n",
    "            print(\"((((\")\n",
    "            continue\n",
    "            \n",
    "        while 1:\n",
    "            e = getPrime(128)\n",
    "            if(gcd(e, phi)==1):\n",
    "                d = bezout(e,phi)\n",
    "                if(d > up):\n",
    "                    ex = 1\n",
    "                    break\n",
    "    return p, q, p*q, e, d\n",
    "\n",
    "                \n",
    "p,q,n,e,d = gen_safe_params(1048)\n",
    "print(f\"{p = }\")\n",
    "print(f\"{q = }\")\n",
    "print(f\"{n = }\")\n",
    "print(f\"{e = }\")\n",
    "print(f\"{d = }\")\n",
    "print(f\"p-1 = {ecm.factor(p-1)}\")\n",
    "print(f\"q-1 = {ecm.factor(q-1)}\")"
   ]
  },
  {
   "cell_type": "code",
   "execution_count": null,
   "id": "98b295b5",
   "metadata": {},
   "outputs": [],
   "source": []
  }
 ],
 "metadata": {
  "kernelspec": {
   "display_name": "SageMath 9.0",
   "language": "sage",
   "name": "sagemath"
  },
  "language_info": {
   "codemirror_mode": {
    "name": "ipython",
    "version": 3
   },
   "file_extension": ".py",
   "mimetype": "text/x-python",
   "name": "python",
   "nbconvert_exporter": "python",
   "pygments_lexer": "ipython3",
   "version": "3.8.10"
  }
 },
 "nbformat": 4,
 "nbformat_minor": 5
}
