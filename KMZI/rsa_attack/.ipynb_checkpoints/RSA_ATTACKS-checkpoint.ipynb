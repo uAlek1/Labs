{
 "cells": [
  {
   "cell_type": "code",
   "execution_count": 22,
   "id": "293cee91",
   "metadata": {},
   "outputs": [],
   "source": [
    "import random\n",
    "\n",
    "def gen_prime(bit_len):\n",
    "    res = random_prime(2**bit_len,False)\n",
    "    return res\n",
    "    \n",
    "def gen_e(p, q):\n",
    "    eiler = (p-1)*(q-1)\n",
    "    e = random_prime(2**128, eiler-1,False)\n",
    "    while (gcd(e, eiler) != 1):\n",
    "        e = random_prime(eiler-1,False)\n",
    "    return e, eiler\n",
    "    \n",
    "def rsa_init(bit_len):\n",
    "    p, q = gen_prime(bit_len), gen_prime(bit_len)\n",
    "    e, eiler = gen_e(p,q)\n",
    "    d = inverse_mod(e,eiler)\n",
    "    return p,q,e,d\n",
    "\n",
    "\n",
    "def gen_params():\n",
    "    p,q, e1, d1 = rsa_init(64)\n",
    "    e2, eiler = gen_e(p,q)\n",
    "    d2 = inverse_mod(e2,eiler)\n",
    "    while(1):\n",
    "        phi = euler_phi(p*q)\n",
    "        check1 = mod(e1*d1, phi)\n",
    "        check2 = mod(e2*d2, phi)\n",
    "        if (check1 == 1 and check1 == check2):\n",
    "            return e1,d1,e2,d2,p,q\n",
    "        else:\n",
    "            p,q, e1, d1 = rsa_init(64)\n",
    "            e2, eiler = gen_e(p,q)\n",
    "            d2 = inverse_mod(e2,eiler)\n"
   ]
  },
  {
   "cell_type": "code",
   "execution_count": 6,
   "id": "f1d0571a",
   "metadata": {},
   "outputs": [
    {
     "name": "stdout",
     "output_type": "stream",
     "text": [
      "p:  9026966367958000117\n",
      "q:  5731016798415611363\n",
      "e1:  19966625818400360752621056927889463749\n",
      "d1:  30119267734626629851095736243055869621\n",
      "e2:  24856417511806918733140222339114321955\n",
      "d2:  18211816144202754577325438576257329371\n"
     ]
    }
   ],
   "source": [
    "e1,d1,e2,d2,p,q = gen_params()\n",
    "print('p: ', p)\n",
    "print('q: ', q)\n",
    "print('e1: ', e1)\n",
    "print('d1: ', d1)\n",
    "print('e2: ', e2)\n",
    "print('d2: ', d2)"
   ]
  },
  {
   "cell_type": "code",
   "execution_count": 7,
   "id": "0fd445a9",
   "metadata": {},
   "outputs": [
    {
     "name": "stdout",
     "output_type": "stream",
     "text": [
      "counted p: 14341119924429205549\n",
      "counted q: 13134724301034853301\n",
      "counted d2: 133996574005307732257895925750274296683\n"
     ]
    }
   ],
   "source": [
    "# factorization attack \n",
    "\n",
    "def factorization_attack(n, e1, d1, e2):\n",
    "    f = 0\n",
    "    s = e1*d1-1\n",
    "    while (s&1 !=1):\n",
    "        f = f+1\n",
    "        s=s>>1\n",
    "    a = random.randrange(n-1)\n",
    "    b = power_mod(a,s,n)\n",
    "    l = 1\n",
    "    while(1):\n",
    "        ost = power_mod(b, 2**l, n)\n",
    "        if (ost == 1):\n",
    "            power = 2**(l-1)\n",
    "            check = power_mod(b, power, n)\n",
    "            if (check == -1 or check == n-1):\n",
    "                a = random.randrange(n - 1)\n",
    "                b = power_mod(a,s,n)\n",
    "                l = 1\n",
    "            else:\n",
    "                t = check\n",
    "                break\n",
    "        else: l =l+1\n",
    "    p, x, y = xgcd(t+1, n)\n",
    "    q, x, y = xgcd(t-1, n)\n",
    "    phi = (p-1)*(q-1)\n",
    "    d2 = inverse_mod(e2, phi)\n",
    "    return p, q, d2\n",
    "\n",
    "pp, qq, dd2 = factorization_attack(p*q, e1, d1, e2)\n",
    "\n",
    "print('counted p:', pp)\n",
    "print('counted q:', qq)\n",
    "print('counted d2:', d2)"
   ]
  },
  {
   "cell_type": "code",
   "execution_count": 16,
   "id": "8207336d",
   "metadata": {
    "scrolled": true
   },
   "outputs": [
    {
     "name": "stdout",
     "output_type": "stream",
     "text": [
      "p:  7\n",
      "q:  7\n",
      "check:  0\n"
     ]
    },
    {
     "ename": "ValueError",
     "evalue": "empty range for randrange()",
     "output_type": "error",
     "traceback": [
      "\u001b[0;31m---------------------------------------------------------------------------\u001b[0m",
      "\u001b[0;31mValueError\u001b[0m                                Traceback (most recent call last)",
      "\u001b[0;32m/tmp/ipykernel_65/3888966843.py\u001b[0m in \u001b[0;36m<module>\u001b[0;34m\u001b[0m\n\u001b[1;32m     28\u001b[0m             \u001b[0;32mreturn\u001b[0m \u001b[0mp\u001b[0m\u001b[0;34m,\u001b[0m\u001b[0mq\u001b[0m\u001b[0;34m,\u001b[0m\u001b[0me\u001b[0m\u001b[0;34m,\u001b[0m\u001b[0md\u001b[0m\u001b[0;34m\u001b[0m\u001b[0;34m\u001b[0m\u001b[0m\n\u001b[1;32m     29\u001b[0m \u001b[0;34m\u001b[0m\u001b[0m\n\u001b[0;32m---> 30\u001b[0;31m \u001b[0mp\u001b[0m\u001b[0;34m,\u001b[0m\u001b[0mq\u001b[0m\u001b[0;34m,\u001b[0m\u001b[0me\u001b[0m\u001b[0;34m,\u001b[0m\u001b[0md\u001b[0m \u001b[0;34m=\u001b[0m \u001b[0mgenerate_winer_params\u001b[0m\u001b[0;34m(\u001b[0m\u001b[0mInteger\u001b[0m\u001b[0;34m(\u001b[0m\u001b[0;36m8\u001b[0m\u001b[0;34m)\u001b[0m\u001b[0;34m)\u001b[0m\u001b[0;34m\u001b[0m\u001b[0;34m\u001b[0m\u001b[0m\n\u001b[0m",
      "\u001b[0;32m/tmp/ipykernel_65/3888966843.py\u001b[0m in \u001b[0;36mgenerate_winer_params\u001b[0;34m(bitlen)\u001b[0m\n\u001b[1;32m     21\u001b[0m     \u001b[0mprint\u001b[0m\u001b[0;34m(\u001b[0m\u001b[0;34m'check: '\u001b[0m\u001b[0;34m,\u001b[0m \u001b[0mint\u001b[0m\u001b[0;34m(\u001b[0m\u001b[0mcheck\u001b[0m\u001b[0;34m)\u001b[0m\u001b[0;34m)\u001b[0m\u001b[0;34m\u001b[0m\u001b[0;34m\u001b[0m\u001b[0m\n\u001b[1;32m     22\u001b[0m     \u001b[0;32mwhile\u001b[0m \u001b[0;34m(\u001b[0m\u001b[0mInteger\u001b[0m\u001b[0;34m(\u001b[0m\u001b[0;36m1\u001b[0m\u001b[0;34m)\u001b[0m\u001b[0;34m)\u001b[0m\u001b[0;34m:\u001b[0m\u001b[0;34m\u001b[0m\u001b[0;34m\u001b[0m\u001b[0m\n\u001b[0;32m---> 23\u001b[0;31m         \u001b[0md\u001b[0m \u001b[0;34m=\u001b[0m \u001b[0mrandom\u001b[0m\u001b[0;34m.\u001b[0m\u001b[0mrandrange\u001b[0m\u001b[0;34m(\u001b[0m\u001b[0mint\u001b[0m\u001b[0;34m(\u001b[0m\u001b[0mcheck\u001b[0m\u001b[0;34m)\u001b[0m\u001b[0;34m)\u001b[0m\u001b[0;34m\u001b[0m\u001b[0;34m\u001b[0m\u001b[0m\n\u001b[0m\u001b[1;32m     24\u001b[0m         \u001b[0me\u001b[0m\u001b[0;34m,\u001b[0m \u001b[0meiler\u001b[0m \u001b[0;34m=\u001b[0m \u001b[0mgen_e\u001b[0m\u001b[0;34m(\u001b[0m\u001b[0mp\u001b[0m\u001b[0;34m,\u001b[0m\u001b[0mq\u001b[0m\u001b[0;34m,\u001b[0m\u001b[0md\u001b[0m\u001b[0;34m)\u001b[0m\u001b[0;34m\u001b[0m\u001b[0;34m\u001b[0m\u001b[0m\n\u001b[1;32m     25\u001b[0m         \u001b[0;32mif\u001b[0m \u001b[0;34m(\u001b[0m\u001b[0mgcd\u001b[0m\u001b[0;34m(\u001b[0m\u001b[0me\u001b[0m\u001b[0;34m,\u001b[0m \u001b[0meiler\u001b[0m\u001b[0;34m)\u001b[0m \u001b[0;34m==\u001b[0m \u001b[0mInteger\u001b[0m\u001b[0;34m(\u001b[0m\u001b[0;36m1\u001b[0m\u001b[0;34m)\u001b[0m \u001b[0;32mand\u001b[0m \u001b[0me\u001b[0m \u001b[0;34m<\u001b[0m \u001b[0meiler\u001b[0m \u001b[0;34m-\u001b[0m \u001b[0mInteger\u001b[0m\u001b[0;34m(\u001b[0m\u001b[0;36m1\u001b[0m\u001b[0;34m)\u001b[0m\u001b[0;34m)\u001b[0m\u001b[0;34m:\u001b[0m\u001b[0;34m\u001b[0m\u001b[0;34m\u001b[0m\u001b[0m\n",
      "\u001b[0;32m/usr/lib/python3.10/random.py\u001b[0m in \u001b[0;36mrandrange\u001b[0;34m(self, start, stop, step)\u001b[0m\n\u001b[1;32m    319\u001b[0m             \u001b[0;32mif\u001b[0m \u001b[0mistart\u001b[0m \u001b[0;34m>\u001b[0m \u001b[0;36m0\u001b[0m\u001b[0;34m:\u001b[0m\u001b[0;34m\u001b[0m\u001b[0;34m\u001b[0m\u001b[0m\n\u001b[1;32m    320\u001b[0m                 \u001b[0;32mreturn\u001b[0m \u001b[0mself\u001b[0m\u001b[0;34m.\u001b[0m\u001b[0m_randbelow\u001b[0m\u001b[0;34m(\u001b[0m\u001b[0mistart\u001b[0m\u001b[0;34m)\u001b[0m\u001b[0;34m\u001b[0m\u001b[0;34m\u001b[0m\u001b[0m\n\u001b[0;32m--> 321\u001b[0;31m             \u001b[0;32mraise\u001b[0m \u001b[0mValueError\u001b[0m\u001b[0;34m(\u001b[0m\u001b[0;34m\"empty range for randrange()\"\u001b[0m\u001b[0;34m)\u001b[0m\u001b[0;34m\u001b[0m\u001b[0;34m\u001b[0m\u001b[0m\n\u001b[0m\u001b[1;32m    322\u001b[0m \u001b[0;34m\u001b[0m\u001b[0m\n\u001b[1;32m    323\u001b[0m         \u001b[0;31m# stop argument supplied.\u001b[0m\u001b[0;34m\u001b[0m\u001b[0;34m\u001b[0m\u001b[0m\n",
      "\u001b[0;31mValueError\u001b[0m: empty range for randrange()"
     ]
    }
   ],
   "source": [
    "# !!!!!!!!!!!!!!!!!!!!!!!!!!!!!!!!!!!!!!!!!!!!!!!!!!!!!!!!!\n",
    "    \n",
    "def gen_e(p, q, d):\n",
    "    eiler = (p-1)*(q-1)\n",
    "    try:\n",
    "        e = inverse_mod(d,eiler)\n",
    "    except:\n",
    "        e = 0\n",
    "    return e, eiler\n",
    "\n",
    "def generate_winer_params(bitlen):\n",
    "    q = gen_prime(bitlen)\n",
    "    p = 1\n",
    "    while (p<q or p>2*q):\n",
    "        p = gen_prime(bitlen)\n",
    "    print('p: ', p)\n",
    "    print('q: ', q)\n",
    "    n = p*q\n",
    "    check = N(n^(1/4))\n",
    "    check = N(check/3)\n",
    "    print('check: ', int(check))\n",
    "    while (1):\n",
    "        d = random.randrange(int(check))\n",
    "        e, eiler = gen_e(p,q,d)\n",
    "        if (gcd(e, eiler) == 1 and e < eiler - 1):\n",
    "            print('e: ', e)\n",
    "            print('d: ', d)\n",
    "            return p,q,e,d\n",
    "\n",
    "p,q,e,d = generate_winer_params(8)\n",
    "\n",
    "\n",
    "# !!!!!!!!!!!!!!!!!!!!!!!!!!!!!!!!!!!!!!!!!!!!!!!!!!!!!!!!!\n"
   ]
  },
  {
   "cell_type": "code",
   "execution_count": 17,
   "id": "70a490bf",
   "metadata": {},
   "outputs": [],
   "source": [
    "m = 123\n",
    "def winer_attack(n, ee, mes):\n",
    "    c = N(ee/n)\n",
    "    print(c)\n",
    "    l = int(log(n, 2))\n",
    "    fraction_list = continued_fraction(c); print(fraction_list)\n",
    "    for i in range(1,l):\n",
    "        numerator = fraction_list.numerator(i)\n",
    "        denominator = fraction_list.denominator(i) \n",
    "        if (power_mod(m,denominator*ee,n) == m):\n",
    "            return denominator\n",
    "    return -1"
   ]
  },
  {
   "cell_type": "code",
   "execution_count": 18,
   "id": "4bb6cbc8",
   "metadata": {},
   "outputs": [
    {
     "name": "stdout",
     "output_type": "stream",
     "text": [
      "d:  49872187\n",
      "n:  187674750500615151863577538691515575587\n",
      "check:  1233758640\n",
      "cool\n",
      "0.582978344222201\n",
      "[0; 1, 1, 2, 1, 1, 18, 1, 46, 1, 4, 6, 1, 2, 4, 2, 4]\n",
      "counter d:  49872187\n"
     ]
    }
   ],
   "source": [
    "p,q = 15733439112036677461, 11928399707412783767\n",
    "e = 109410315299163392886979402045049646523\n",
    "d = inverse_mod(e,(q-1)*(p-1))\n",
    "print('d: ', d)\n",
    "print('n: ', p*q)\n",
    "n = p*q\n",
    "check = N(n^(1/4))\n",
    "check = N(check/3)\n",
    "print('check: ', int(check))\n",
    "if (d < check):\n",
    "    print('cool')\n",
    "\n",
    "dd = winer_attack(p*q, e, m)\n",
    "print('counter d: ', dd)"
   ]
  },
  {
   "cell_type": "code",
   "execution_count": 11,
   "id": "7c7080db",
   "metadata": {},
   "outputs": [],
   "source": [
    "# Случай специальных открытых показателей\n",
    "\n",
    "def gen_e(N):\n",
    "    for elem in Primes():\n",
    "        if (gcd(elem, (N[0]-1)*(N[1]-1)) == 1 and elem != 2):\n",
    "            return elem\n",
    "        \n",
    "def gen_broadcast_params(num, bitlen):\n",
    "    N = list()\n",
    "    E = list()\n",
    "    D = list()\n",
    "    for i in range(num):\n",
    "        p,q = gen_prime(bitlen), gen_prime(bitlen)\n",
    "        N.append((p,q))\n",
    "    for i in range(num):\n",
    "        e = gen_e(N[i])\n",
    "        if (i == 0):\n",
    "            E.append(e)\n",
    "        else:\n",
    "            while (e != E[i-1]):\n",
    "                N[i] = (gen_prime(bitlen), gen_prime(bitlen))\n",
    "                e = gen_e(N[i])\n",
    "            else:\n",
    "                E.append(e)\n",
    "    for i in range(num):\n",
    "        d = inverse_mod(E[i], (N[i][0]-1)*(N[i][1]-1))\n",
    "        D.append(d)\n",
    "    return N,E,D"
   ]
  },
  {
   "cell_type": "code",
   "execution_count": 16,
   "id": "4d1beb86",
   "metadata": {},
   "outputs": [
    {
     "name": "stdout",
     "output_type": "stream",
     "text": [
      "p0: 954827\n",
      "q0: 665843\n",
      "e0: 3\n",
      "d0: 423842168995\n",
      "==============\n",
      "p1: 453707\n",
      "q1: 160481\n",
      "e1: 3\n",
      "d1: 48540492587\n",
      "==============\n",
      "p2: 296507\n",
      "q2: 148079\n",
      "e2: 3\n",
      "d2: 29270676979\n",
      "==============\n",
      "p3: 675611\n",
      "q3: 847673\n",
      "e3: 3\n",
      "d3: 381797119947\n",
      "==============\n"
     ]
    }
   ],
   "source": [
    "num = 4\n",
    "PQ, E, D = gen_broadcast_params(num, 20)\n",
    "for i in range(num):\n",
    "    print('p' + str(i) +': ' + str(PQ[i][0]))\n",
    "    print('q' + str(i) +': ' + str(PQ[i][1]))\n",
    "    print('e' + str(i) +': ' + str(E[i]))\n",
    "    print('d' + str(i) +': ' + str(D[i]))\n",
    "    print('==============')"
   ]
  },
  {
   "cell_type": "code",
   "execution_count": 45,
   "id": "5a0ab26b",
   "metadata": {},
   "outputs": [
    {
     "name": "stdout",
     "output_type": "stream",
     "text": [
      "m:  107148233241459\n",
      "N0: 635764874161\n",
      "N1: 72811353067\n",
      "N2: 43906460053\n",
      "N3: 572697203203\n",
      "C:  [510621820554, 17785568089, 29294622369, 422105290138]\n"
     ]
    }
   ],
   "source": [
    "mes = b'asdass'\n",
    "m = int.from_bytes(mes, \"big\")\n",
    "print('m: ', m)\n",
    "def broadcast_encryption(m, e, n, num):\n",
    "    C = list()\n",
    "    for i in range(num):\n",
    "        c = power_mod(m, e[i], n[i][0]*n[i][1])\n",
    "        C.append(c)\n",
    "    return C\n",
    "\n",
    "C = broadcast_encryption(m, E, PQ, num)\n",
    "NN = list()\n",
    "for i in range(num):\n",
    "    NN.append(PQ[i][0]*PQ[i][1])\n",
    "    print('N'+str(i)+': ' + str(NN[i]))\n",
    "    \n",
    "print('C: ', C)\n"
   ]
  },
  {
   "cell_type": "code",
   "execution_count": 46,
   "id": "789073bb",
   "metadata": {},
   "outputs": [
    {
     "name": "stdout",
     "output_type": "stream",
     "text": [
      "107148233241459\n"
     ]
    }
   ],
   "source": [
    "def broadcast_attack(c, n, e):\n",
    "    x = crt(c, n)\n",
    "    b = x.n()\n",
    "    m = b.nth_root(e)\n",
    "    print(int(m))\n",
    "    \n",
    "broadcast_attack(C, NN, E[0])"
   ]
  },
  {
   "cell_type": "code",
   "execution_count": 71,
   "id": "99d857d4",
   "metadata": {},
   "outputs": [],
   "source": [
    "def gen_safe_params(bitlen):\n",
    "    safe = 1\n",
    "    while (safe):\n",
    "        safe = 0\n",
    "        # проверка делителей p-1, q-1\n",
    "        p = random_prime(2**(bitlen//2 + 1),False)\n",
    "        if (is_prime(ZZ((p-1)//2)) == False):\n",
    "            safe= 1\n",
    "            continue\n",
    "        while (1):\n",
    "            q = random_prime(2**(bitlen//2 + 1),False)\n",
    "            if (is_prime(ZZ((q-1)//2)) == True):\n",
    "                break\n",
    "        if (p*q < 2**bitlen):\n",
    "            safe =1\n",
    "            continue\n",
    "        # не допускаем малое значение e\n",
    "        while(1):\n",
    "            e,eiler = gen_e(p,q)\n",
    "            if (e < 2**128):\n",
    "                break\n",
    "        d = inverse_mod(e,eiler)\n",
    "        # исключаем возможность атаки Винера\n",
    "        if (q < p and p< 2*q):\n",
    "            n = p*q\n",
    "            check = N(n^(1/4))\n",
    "            check = N(check/3)\n",
    "            if (d < check):\n",
    "                safe = 1\n",
    "                continue\n",
    "    print('p: ', p)\n",
    "    print(ecm.factor(p-1))\n",
    "    print('q: ', q)\n",
    "    print(ecm.factor(q-1))\n",
    "    print('n: ', p*q)\n",
    "    print('e: ', e)\n",
    "    print('d: ', d)"
   ]
  },
  {
   "cell_type": "code",
   "execution_count": 72,
   "id": "1242b44d",
   "metadata": {},
   "outputs": [
    {
     "name": "stdout",
     "output_type": "stream",
     "text": [
      "p:  23428117436401974214115377045661659682313360401279145528458725599222076604394340106643737504421459554443171048378803775665372376658775064785185708374405199\n",
      "[2, 11714058718200987107057688522830829841156680200639572764229362799611038302197170053321868752210729777221585524189401887832686188329387532392592854187202599]\n",
      "q:  9153790905286922264012934186950073340055317531424967468434298666826786484743228148514761731282663788610172970987224059486107253009556499942518402922111287\n",
      "[2, 4576895452643461132006467093475036670027658765712483734217149333413393242371614074257380865641331894305086485493612029743053626504778249971259201461055643]\n",
      "n:  214456088317330355981627215127617770935583321534146247137070435615259293243553920077769342872643927779443869199152505112976220692491002717042018344052554865864580141090745792252320146761610853917248981660674751023767273833120950479358319167717357541532171980643761590695087145554183872696678945101453909381113\n",
      "e:  48766405102296095250703153396480517519\n",
      "d:  80451211060802194081205671239909657414550770583006208496540279929981548459594281886631472267537540046136214364316533370233599462599431650577945418044038230058826762184481281238154817469967189199865517372718680544581652966482901234834869127556840967408695624377952420399424954814112174403818210598785108738823\n"
     ]
    }
   ],
   "source": [
    "gen_safe_params(1024)"
   ]
  },
  {
   "cell_type": "code",
   "execution_count": null,
   "id": "8d975413",
   "metadata": {},
   "outputs": [],
   "source": []
  }
 ],
 "metadata": {
  "kernelspec": {
   "display_name": "SageMath 9.0",
   "language": "sage",
   "name": "sagemath"
  },
  "language_info": {
   "codemirror_mode": {
    "name": "ipython",
    "version": 3
   },
   "file_extension": ".py",
   "mimetype": "text/x-python",
   "name": "python",
   "nbconvert_exporter": "python",
   "pygments_lexer": "ipython3",
   "version": "3.8.10"
  }
 },
 "nbformat": 4,
 "nbformat_minor": 5
}
