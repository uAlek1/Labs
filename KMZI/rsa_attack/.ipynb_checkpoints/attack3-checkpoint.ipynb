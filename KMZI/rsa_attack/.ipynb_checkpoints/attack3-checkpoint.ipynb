{
 "cells": [
  {
   "cell_type": "code",
   "execution_count": 4,
   "id": "a6953e9d",
   "metadata": {},
   "outputs": [
    {
     "name": "stdout",
     "output_type": "stream",
     "text": [
      "2374102553\n",
      "3421143289\n",
      "2707381604164647168\n",
      "[2, 2, 2, 2, 2, 2, 2, 2, 3, 3, 3, 11, 53, 71, 49807, 189989]\n"
     ]
    }
   ],
   "source": [
    "from Crypto.Util.number import long_to_bytes, bytes_to_long, getPrime\n",
    "\n",
    "def noKey_decrypt(n:int, c:int, e:int)->int:\n",
    "    c_cur = c\n",
    "    while 1:\n",
    "        cc = c_cur\n",
    "        c_cur = pow(cc, e, n)\n",
    "        if(c_cur == c):\n",
    "            break \n",
    "    return cc\n",
    "\n",
    "p = 2374102553\n",
    "q = 3421143289\n",
    "phi = (p-1)*(q-1)\n",
    "Zphi = Zmod(phi).unit_group()\n",
    "zphior\n",
    "#print(Zphi.order())\n",
    "#print(ecm.factor(Zphi.order()))\n",
    "#print(q.order())\n",
    "#mess = bytes_to_long(\"hello\".encode())\n",
    "#ee = int(q.order())\n",
    "#m = noKey_decrypt(nn, mess, ee)\n",
    "#print(long_to_bytes(int(m)))\n",
    "#[2, 2, 3, 5, 11, 23, 175403, 22164708596347, 1130643474595693]\n",
    "    \n"
   ]
  },
  {
   "cell_type": "code",
   "execution_count": 9,
   "id": "fdddf57d",
   "metadata": {},
   "outputs": [
    {
     "ename": "KeyboardInterrupt",
     "evalue": "",
     "output_type": "error",
     "traceback": [
      "\u001b[0;31m---------------------------------------------------------------------------\u001b[0m",
      "\u001b[0;31mKeyboardInterrupt\u001b[0m                         Traceback (most recent call last)",
      "\u001b[0;32m<ipython-input-9-7a127b3731db>\u001b[0m in \u001b[0;36m<module>\u001b[0;34m\u001b[0m\n\u001b[1;32m     70\u001b[0m     \u001b[0mprint\u001b[0m\u001b[0;34m(\u001b[0m\u001b[0;34m'd: '\u001b[0m\u001b[0;34m,\u001b[0m \u001b[0md\u001b[0m\u001b[0;34m)\u001b[0m\u001b[0;34m\u001b[0m\u001b[0;34m\u001b[0m\u001b[0m\n\u001b[1;32m     71\u001b[0m \u001b[0;34m\u001b[0m\u001b[0m\n\u001b[0;32m---> 72\u001b[0;31m \u001b[0mgen_safe_params\u001b[0m\u001b[0;34m(\u001b[0m\u001b[0mInteger\u001b[0m\u001b[0;34m(\u001b[0m\u001b[0;36m1024\u001b[0m\u001b[0;34m)\u001b[0m\u001b[0;34m)\u001b[0m\u001b[0;34m\u001b[0m\u001b[0;34m\u001b[0m\u001b[0m\n\u001b[0m\u001b[1;32m     73\u001b[0m \u001b[0;31m#p_, q_ = fermat_factor(n)\u001b[0m\u001b[0;34m\u001b[0m\u001b[0;34m\u001b[0m\u001b[0;34m\u001b[0m\u001b[0m\n\u001b[1;32m     74\u001b[0m \u001b[0;31m#print(p_, q_)\u001b[0m\u001b[0;34m\u001b[0m\u001b[0;34m\u001b[0m\u001b[0;34m\u001b[0m\u001b[0m\n",
      "\u001b[0;32m<ipython-input-9-7a127b3731db>\u001b[0m in \u001b[0;36mgen_safe_params\u001b[0;34m(bitlen)\u001b[0m\n\u001b[1;32m     37\u001b[0m                 \u001b[0;32mbreak\u001b[0m\u001b[0;34m\u001b[0m\u001b[0;34m\u001b[0m\u001b[0m\n\u001b[1;32m     38\u001b[0m         \u001b[0;32mwhile\u001b[0m \u001b[0mInteger\u001b[0m\u001b[0;34m(\u001b[0m\u001b[0;36m1\u001b[0m\u001b[0;34m)\u001b[0m\u001b[0;34m:\u001b[0m\u001b[0;34m\u001b[0m\u001b[0;34m\u001b[0m\u001b[0m\n\u001b[0;32m---> 39\u001b[0;31m             \u001b[0mq\u001b[0m \u001b[0;34m=\u001b[0m \u001b[0mgetPrime\u001b[0m\u001b[0;34m(\u001b[0m\u001b[0;34m(\u001b[0m\u001b[0mbitlen\u001b[0m \u001b[0;34m//\u001b[0m \u001b[0mInteger\u001b[0m\u001b[0;34m(\u001b[0m\u001b[0;36m2\u001b[0m\u001b[0;34m)\u001b[0m\u001b[0;34m)\u001b[0m\u001b[0;34m)\u001b[0m\u001b[0;34m\u001b[0m\u001b[0;34m\u001b[0m\u001b[0m\n\u001b[0m\u001b[1;32m     40\u001b[0m             \u001b[0;32mif\u001b[0m\u001b[0;34m(\u001b[0m\u001b[0mis_prime\u001b[0m\u001b[0;34m(\u001b[0m\u001b[0;34m(\u001b[0m\u001b[0mq\u001b[0m\u001b[0;34m-\u001b[0m\u001b[0mInteger\u001b[0m\u001b[0;34m(\u001b[0m\u001b[0;36m1\u001b[0m\u001b[0;34m)\u001b[0m\u001b[0;34m)\u001b[0m\u001b[0;34m//\u001b[0m\u001b[0mInteger\u001b[0m\u001b[0;34m(\u001b[0m\u001b[0;36m2\u001b[0m\u001b[0;34m)\u001b[0m\u001b[0;34m)\u001b[0m\u001b[0;34m)\u001b[0m\u001b[0;34m:\u001b[0m\u001b[0;34m\u001b[0m\u001b[0;34m\u001b[0m\u001b[0m\n\u001b[1;32m     41\u001b[0m                 \u001b[0;32mbreak\u001b[0m\u001b[0;34m\u001b[0m\u001b[0;34m\u001b[0m\u001b[0m\n",
      "\u001b[0;32m~/.local/lib/python3.8/site-packages/Crypto/Util/number.py\u001b[0m in \u001b[0;36mgetPrime\u001b[0;34m(N, randfunc)\u001b[0m\n\u001b[1;32m    177\u001b[0m \u001b[0;34m\u001b[0m\u001b[0m\n\u001b[1;32m    178\u001b[0m     \u001b[0;32mwhile\u001b[0m \u001b[0;32mTrue\u001b[0m\u001b[0;34m:\u001b[0m\u001b[0;34m\u001b[0m\u001b[0;34m\u001b[0m\u001b[0m\n\u001b[0;32m--> 179\u001b[0;31m         \u001b[0mnumber\u001b[0m \u001b[0;34m=\u001b[0m \u001b[0mgetRandomNBitInteger\u001b[0m\u001b[0;34m(\u001b[0m\u001b[0mN\u001b[0m\u001b[0;34m,\u001b[0m \u001b[0mrandfunc\u001b[0m\u001b[0;34m)\u001b[0m \u001b[0;34m|\u001b[0m \u001b[0;36m1\u001b[0m\u001b[0;34m\u001b[0m\u001b[0;34m\u001b[0m\u001b[0m\n\u001b[0m\u001b[1;32m    180\u001b[0m         \u001b[0;32mif\u001b[0m \u001b[0misPrime\u001b[0m\u001b[0;34m(\u001b[0m\u001b[0mnumber\u001b[0m\u001b[0;34m,\u001b[0m \u001b[0mrandfunc\u001b[0m\u001b[0;34m=\u001b[0m\u001b[0mrandfunc\u001b[0m\u001b[0;34m)\u001b[0m\u001b[0;34m:\u001b[0m\u001b[0;34m\u001b[0m\u001b[0;34m\u001b[0m\u001b[0m\n\u001b[1;32m    181\u001b[0m             \u001b[0;32mbreak\u001b[0m\u001b[0;34m\u001b[0m\u001b[0;34m\u001b[0m\u001b[0m\n",
      "\u001b[0;32m~/.local/lib/python3.8/site-packages/Crypto/Util/number.py\u001b[0m in \u001b[0;36mgetRandomNBitInteger\u001b[0;34m(N, randfunc)\u001b[0m\n\u001b[1;32m    107\u001b[0m     \u001b[0mvalue\u001b[0m \u001b[0;34m=\u001b[0m \u001b[0mgetRandomInteger\u001b[0m \u001b[0;34m(\u001b[0m\u001b[0mN\u001b[0m\u001b[0;34m-\u001b[0m\u001b[0;36m1\u001b[0m\u001b[0;34m,\u001b[0m \u001b[0mrandfunc\u001b[0m\u001b[0;34m)\u001b[0m\u001b[0;34m\u001b[0m\u001b[0;34m\u001b[0m\u001b[0m\n\u001b[1;32m    108\u001b[0m     \u001b[0mvalue\u001b[0m \u001b[0;34m|=\u001b[0m \u001b[0;36m2\u001b[0m \u001b[0;34m**\u001b[0m \u001b[0;34m(\u001b[0m\u001b[0mN\u001b[0m\u001b[0;34m-\u001b[0m\u001b[0;36m1\u001b[0m\u001b[0;34m)\u001b[0m                \u001b[0;31m# Ensure high bit is set\u001b[0m\u001b[0;34m\u001b[0m\u001b[0;34m\u001b[0m\u001b[0m\n\u001b[0;32m--> 109\u001b[0;31m     \u001b[0;32massert\u001b[0m \u001b[0msize\u001b[0m\u001b[0;34m(\u001b[0m\u001b[0mvalue\u001b[0m\u001b[0;34m)\u001b[0m \u001b[0;34m>=\u001b[0m \u001b[0mN\u001b[0m\u001b[0;34m\u001b[0m\u001b[0;34m\u001b[0m\u001b[0m\n\u001b[0m\u001b[1;32m    110\u001b[0m     \u001b[0;32mreturn\u001b[0m \u001b[0mvalue\u001b[0m\u001b[0;34m\u001b[0m\u001b[0;34m\u001b[0m\u001b[0m\n\u001b[1;32m    111\u001b[0m \u001b[0;34m\u001b[0m\u001b[0m\n",
      "\u001b[0;32msrc/cysignals/signals.pyx\u001b[0m in \u001b[0;36mcysignals.signals.python_check_interrupt\u001b[0;34m()\u001b[0m\n",
      "\u001b[0;31mKeyboardInterrupt\u001b[0m: "
     ]
    }
   ],
   "source": [
    "from Crypto.Util.number import long_to_bytes, bytes_to_long, getPrime\n",
    "import gmpy2\n",
    "\n",
    "def bezout(a, b):\n",
    "    x, xx, y, yy = 1, 0, 0, 1\n",
    "    while b:\n",
    "        q = a // b\n",
    "        a, b = b, a % b\n",
    "        x, xx = xx, x - xx * q\n",
    "        y, yy = yy, y - yy * q\n",
    "    return x\n",
    "\n",
    "def fermat_factor(n):\n",
    "    iteration = 0\n",
    "    assert n % 2 != 0\n",
    "    a = gmpy2.isqrt(n)\n",
    "    b2 = gmpy2.square(a) - n\n",
    "\n",
    "    while not gmpy2.is_square(b2):\n",
    "        a += 1\n",
    "        b2 = gmpy2.square(a) - n\n",
    "        iteration +=1\n",
    "        if(iteration %100000 ==0):\n",
    "            print(iteration)\n",
    "\n",
    "    p = a + gmpy2.isqrt(b2)\n",
    "    q = a - gmpy2.isqrt(b2)\n",
    "\n",
    "    return int(p), int(q)\n",
    "\n",
    "def gen_safe_params(bitlen):\n",
    "    ex = 0\n",
    "    while ex == 0:\n",
    "        while 1:\n",
    "            p = getPrime((bitlen // 2) + 1)\n",
    "            if(is_prime((p-1)//2)):\n",
    "                break\n",
    "        while 1:\n",
    "            q = getPrime((bitlen // 2))\n",
    "            if(is_prime((q-1)//2)):\n",
    "                break\n",
    "\n",
    "        if p < 2*q:\n",
    "            continue\n",
    "        \n",
    "        n = p*q\n",
    "        phi = (p-1)*(q-1)\n",
    "        up = int(sqrt(sqrt(n))) // 3\n",
    "        if n < 2**bitlen:\n",
    "            print(\"((((\")\n",
    "            continue\n",
    "            \n",
    "        while 1:\n",
    "            e = getPrime(128)\n",
    "            if(gcd(e, phi)==1):\n",
    "                d = bezout(e,phi)\n",
    "                if(d > up):\n",
    "                    ex = 1\n",
    "                    break\n",
    "        #p_,q_ = fermat_factor(n)\n",
    "        #if(p == p_):\n",
    "         #   print(\"ferma(\")\n",
    "            \n",
    "    print('p: ', p)\n",
    "    print(ecm.factor(p-1))\n",
    "    print('q: ', q),\n",
    "    print(ecm.factor(q-1))\n",
    "    print('n: ', p*q)\n",
    "    print('e: ', e)\n",
    "    print('d: ', d)\n",
    "                \n",
    "gen_safe_params(1024)      \n",
    "#p_, q_ = fermat_factor(n)\n",
    "#print(p_, q_)"
   ]
  },
  {
   "cell_type": "code",
   "execution_count": null,
   "id": "2b7ab772",
   "metadata": {},
   "outputs": [],
   "source": []
  }
 ],
 "metadata": {
  "kernelspec": {
   "display_name": "SageMath 9.0",
   "language": "sage",
   "name": "sagemath"
  },
  "language_info": {
   "codemirror_mode": {
    "name": "ipython",
    "version": 3
   },
   "file_extension": ".py",
   "mimetype": "text/x-python",
   "name": "python",
   "nbconvert_exporter": "python",
   "pygments_lexer": "ipython3",
   "version": "3.8.10"
  }
 },
 "nbformat": 4,
 "nbformat_minor": 5
}
